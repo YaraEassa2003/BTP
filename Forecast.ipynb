{
 "cells": [
  {
   "cell_type": "code",
   "execution_count": 1,
   "id": "eb17b051",
   "metadata": {},
   "outputs": [
    {
     "name": "stdout",
     "output_type": "stream",
     "text": [
      "Loaded from remote URL\n",
      "Full dataset shape: (558806, 16)\n",
      "Sampled dataset shape: (20000, 16)\n"
     ]
    },
    {
     "data": {
      "text/html": [
       "<div>\n",
       "<style scoped>\n",
       "    .dataframe tbody tr th:only-of-type {\n",
       "        vertical-align: middle;\n",
       "    }\n",
       "\n",
       "    .dataframe tbody tr th {\n",
       "        vertical-align: top;\n",
       "    }\n",
       "\n",
       "    .dataframe thead th {\n",
       "        text-align: right;\n",
       "    }\n",
       "</style>\n",
       "<table border=\"1\" class=\"dataframe\">\n",
       "  <thead>\n",
       "    <tr style=\"text-align: right;\">\n",
       "      <th></th>\n",
       "      <th>year</th>\n",
       "      <th>make</th>\n",
       "      <th>model</th>\n",
       "      <th>trim</th>\n",
       "      <th>body</th>\n",
       "      <th>transmission</th>\n",
       "      <th>vin</th>\n",
       "      <th>state</th>\n",
       "      <th>condition</th>\n",
       "      <th>odometer</th>\n",
       "      <th>color</th>\n",
       "      <th>interior</th>\n",
       "      <th>seller</th>\n",
       "      <th>mmr</th>\n",
       "      <th>sellingprice</th>\n",
       "      <th>saledate</th>\n",
       "    </tr>\n",
       "  </thead>\n",
       "  <tbody>\n",
       "    <tr>\n",
       "      <th>0</th>\n",
       "      <td>2012</td>\n",
       "      <td>Nissan</td>\n",
       "      <td>Altima</td>\n",
       "      <td>2.5</td>\n",
       "      <td>Sedan</td>\n",
       "      <td>automatic</td>\n",
       "      <td>1n4al2ap9cc198749</td>\n",
       "      <td>ca</td>\n",
       "      <td>3.7</td>\n",
       "      <td>65151.0</td>\n",
       "      <td>black</td>\n",
       "      <td>black</td>\n",
       "      <td>dtg operations inc</td>\n",
       "      <td>10150</td>\n",
       "      <td>10500</td>\n",
       "      <td>Tue Jan 27 2015 04:30:00 GMT-0800 (PST)</td>\n",
       "    </tr>\n",
       "    <tr>\n",
       "      <th>1</th>\n",
       "      <td>2013</td>\n",
       "      <td>Toyota</td>\n",
       "      <td>Camry</td>\n",
       "      <td>SE</td>\n",
       "      <td>Sedan</td>\n",
       "      <td>automatic</td>\n",
       "      <td>4t1bf1fk2du234284</td>\n",
       "      <td>fl</td>\n",
       "      <td>3.2</td>\n",
       "      <td>56144.0</td>\n",
       "      <td>silver</td>\n",
       "      <td>black</td>\n",
       "      <td>the hertz corporation</td>\n",
       "      <td>13300</td>\n",
       "      <td>9500</td>\n",
       "      <td>Wed Apr 29 2015 02:15:00 GMT-0700 (PDT)</td>\n",
       "    </tr>\n",
       "    <tr>\n",
       "      <th>2</th>\n",
       "      <td>2003</td>\n",
       "      <td>Honda</td>\n",
       "      <td>Civic</td>\n",
       "      <td>Hybrid</td>\n",
       "      <td>Sedan</td>\n",
       "      <td>automatic</td>\n",
       "      <td>jhmes966x3s021767</td>\n",
       "      <td>pa</td>\n",
       "      <td>2.5</td>\n",
       "      <td>171959.0</td>\n",
       "      <td>gray</td>\n",
       "      <td>beige</td>\n",
       "      <td>pohanka lexus</td>\n",
       "      <td>1925</td>\n",
       "      <td>2300</td>\n",
       "      <td>Fri Mar 06 2015 01:00:00 GMT-0800 (PST)</td>\n",
       "    </tr>\n",
       "    <tr>\n",
       "      <th>3</th>\n",
       "      <td>2010</td>\n",
       "      <td>Nissan</td>\n",
       "      <td>Armada</td>\n",
       "      <td>Platinum</td>\n",
       "      <td>SUV</td>\n",
       "      <td>automatic</td>\n",
       "      <td>5n1ba0nf7an610965</td>\n",
       "      <td>tx</td>\n",
       "      <td>3.6</td>\n",
       "      <td>115065.0</td>\n",
       "      <td>silver</td>\n",
       "      <td>black</td>\n",
       "      <td>all american chevrolet of midland</td>\n",
       "      <td>11600</td>\n",
       "      <td>13000</td>\n",
       "      <td>Wed Feb 04 2015 02:20:00 GMT-0800 (PST)</td>\n",
       "    </tr>\n",
       "    <tr>\n",
       "      <th>4</th>\n",
       "      <td>2014</td>\n",
       "      <td>Nissan</td>\n",
       "      <td>Pathfinder</td>\n",
       "      <td>SL</td>\n",
       "      <td>SUV</td>\n",
       "      <td>automatic</td>\n",
       "      <td>5n1ar2mm2ec622183</td>\n",
       "      <td>tn</td>\n",
       "      <td>4.5</td>\n",
       "      <td>15721.0</td>\n",
       "      <td>—</td>\n",
       "      <td>gray</td>\n",
       "      <td>nissan north america inc.</td>\n",
       "      <td>29400</td>\n",
       "      <td>29600</td>\n",
       "      <td>Thu Feb 26 2015 02:00:00 GMT-0800 (PST)</td>\n",
       "    </tr>\n",
       "  </tbody>\n",
       "</table>\n",
       "</div>"
      ],
      "text/plain": [
       "   year    make       model      trim   body transmission                vin  \\\n",
       "0  2012  Nissan      Altima       2.5  Sedan    automatic  1n4al2ap9cc198749   \n",
       "1  2013  Toyota       Camry        SE  Sedan    automatic  4t1bf1fk2du234284   \n",
       "2  2003   Honda       Civic    Hybrid  Sedan    automatic  jhmes966x3s021767   \n",
       "3  2010  Nissan      Armada  Platinum    SUV    automatic  5n1ba0nf7an610965   \n",
       "4  2014  Nissan  Pathfinder        SL    SUV    automatic  5n1ar2mm2ec622183   \n",
       "\n",
       "  state  condition  odometer   color interior  \\\n",
       "0    ca        3.7   65151.0   black    black   \n",
       "1    fl        3.2   56144.0  silver    black   \n",
       "2    pa        2.5  171959.0    gray    beige   \n",
       "3    tx        3.6  115065.0  silver    black   \n",
       "4    tn        4.5   15721.0       —     gray   \n",
       "\n",
       "                              seller    mmr  sellingprice  \\\n",
       "0                 dtg operations inc  10150         10500   \n",
       "1              the hertz corporation  13300          9500   \n",
       "2                      pohanka lexus   1925          2300   \n",
       "3  all american chevrolet of midland  11600         13000   \n",
       "4          nissan north america inc.  29400         29600   \n",
       "\n",
       "                                  saledate  \n",
       "0  Tue Jan 27 2015 04:30:00 GMT-0800 (PST)  \n",
       "1  Wed Apr 29 2015 02:15:00 GMT-0700 (PDT)  \n",
       "2  Fri Mar 06 2015 01:00:00 GMT-0800 (PST)  \n",
       "3  Wed Feb 04 2015 02:20:00 GMT-0800 (PST)  \n",
       "4  Thu Feb 26 2015 02:00:00 GMT-0800 (PST)  "
      ]
     },
     "execution_count": 1,
     "metadata": {},
     "output_type": "execute_result"
    }
   ],
   "source": [
    "import pandas as pd\n",
    "import numpy as np\n",
    "import matplotlib.pyplot as plt\n",
    "import seaborn as sns\n",
    "\n",
    "%matplotlib inline\n",
    "sns.set()\n",
    "\n",
    "# ─── load full dataset (with fallback) ─────────────────────────────────────\n",
    "try:\n",
    "    df = pd.read_csv('car_prices.csv', sep=',', engine='python', on_bad_lines='skip')\n",
    "    print(\"Loaded from local file\")\n",
    "except Exception:\n",
    "    df = pd.read_csv(\n",
    "        'https://raw.githubusercontent.com/bagusganjarl/used-car-auction-prices/main/car_prices.csv',\n",
    "        sep=',',\n",
    "        engine='python',\n",
    "        on_bad_lines='skip'\n",
    "    )\n",
    "    print(\"Loaded from remote URL\")\n",
    "\n",
    "print(\"Full dataset shape:\", df.shape)\n",
    "\n",
    "# ─── down-sample to 10 000 random rows ────────────────────────────────────\n",
    "df = df.sample(n=20_000, random_state=42).reset_index(drop=True)\n",
    "print(\"Sampled dataset shape:\", df.shape)\n",
    "\n",
    "# ─── inspect ────────────────────────────────────────────────────────────\n",
    "df.head()\n"
   ]
  },
  {
   "cell_type": "code",
   "execution_count": 2,
   "id": "03b188f3",
   "metadata": {},
   "outputs": [
    {
     "name": "stdout",
     "output_type": "stream",
     "text": [
      "<class 'pandas.core.frame.DataFrame'>\n",
      "RangeIndex: 20000 entries, 0 to 19999\n",
      "Data columns (total 16 columns):\n",
      " #   Column        Non-Null Count  Dtype  \n",
      "---  ------        --------------  -----  \n",
      " 0   year          20000 non-null  int64  \n",
      " 1   make          19666 non-null  object \n",
      " 2   model         19662 non-null  object \n",
      " 3   trim          19646 non-null  object \n",
      " 4   body          19553 non-null  object \n",
      " 5   transmission  17608 non-null  object \n",
      " 6   vin           20000 non-null  object \n",
      " 7   state         20000 non-null  object \n",
      " 8   condition     19571 non-null  float64\n",
      " 9   odometer      19996 non-null  float64\n",
      " 10  color         19970 non-null  object \n",
      " 11  interior      19970 non-null  object \n",
      " 12  seller        20000 non-null  object \n",
      " 13  mmr           20000 non-null  int64  \n",
      " 14  sellingprice  20000 non-null  int64  \n",
      " 15  saledate      20000 non-null  object \n",
      "dtypes: float64(2), int64(3), object(11)\n",
      "memory usage: 2.4+ MB\n"
     ]
    }
   ],
   "source": [
    "df.info()"
   ]
  },
  {
   "cell_type": "code",
   "execution_count": 3,
   "id": "61ee1e00",
   "metadata": {},
   "outputs": [
    {
     "data": {
      "text/plain": [
       "year               0\n",
       "make             334\n",
       "model            338\n",
       "trim             354\n",
       "body             447\n",
       "transmission    2392\n",
       "vin                0\n",
       "state              0\n",
       "condition        429\n",
       "odometer           4\n",
       "color             30\n",
       "interior          30\n",
       "seller             0\n",
       "mmr                0\n",
       "sellingprice       0\n",
       "saledate           0\n",
       "dtype: int64"
      ]
     },
     "execution_count": 3,
     "metadata": {},
     "output_type": "execute_result"
    }
   ],
   "source": [
    "df.isnull().sum()"
   ]
  },
  {
   "cell_type": "code",
   "execution_count": 4,
   "id": "2a22569c",
   "metadata": {},
   "outputs": [
    {
     "data": {
      "text/plain": [
       "np.int64(0)"
      ]
     },
     "execution_count": 4,
     "metadata": {},
     "output_type": "execute_result"
    }
   ],
   "source": [
    "df.duplicated().sum()"
   ]
  },
  {
   "cell_type": "code",
   "execution_count": 5,
   "id": "e9ddd032",
   "metadata": {},
   "outputs": [
    {
     "name": "stdout",
     "output_type": "stream",
     "text": [
      "['sedan' 'suv' 'king cab' 'hatchback' 'supercab' 'supercrew' 'g sedan' nan\n",
      " 'wagon' 'minivan' 'van' 'convertible' 'crew cab' 'g coupe' 'coupe'\n",
      " 'regular cab' 'quad cab' 'crewmax cab' 'elantra coupe' 'xtracab'\n",
      " 'genesis coupe' 'e-series van' 'double cab' 'extended cab' 'koup'\n",
      " 'cts coupe' 'mega cab' 'g convertible' 'access cab' 'promaster cargo van'\n",
      " 'club cab' 'beetle convertible' 'cts-v coupe' 'tsx sport wagon'\n",
      " 'q60 convertible' 'cab plus' 'granturismo convertible' 'g37 convertible']\n"
     ]
    }
   ],
   "source": [
    "df['make'] = df['make'].str.lower().str.strip()\n",
    "df['model'] = df['model'].str.lower().str.strip()\n",
    "df['trim'] = df['trim'].str.lower().str.strip()\n",
    "df['body'] = df['body'].str.lower().str.strip()\n",
    "df['transmission'] = df['transmission'].str.lower().str.strip()\n",
    "print(df['body'].unique())"
   ]
  },
  {
   "cell_type": "code",
   "execution_count": 6,
   "id": "fabef540",
   "metadata": {},
   "outputs": [
    {
     "data": {
      "text/plain": [
       "array(['black', 'silver', 'gray', '—', 'red', 'white', 'blue', 'green',\n",
       "       'burgundy', 'brown', 'charcoal', 'beige', 'gold', 'purple',\n",
       "       'off-white', nan, 'orange', 'yellow', 'turquoise', 'pink'],\n",
       "      dtype=object)"
      ]
     },
     "execution_count": 6,
     "metadata": {},
     "output_type": "execute_result"
    }
   ],
   "source": [
    "df['color'].unique()"
   ]
  },
  {
   "cell_type": "code",
   "execution_count": 7,
   "id": "93744ec8",
   "metadata": {},
   "outputs": [
    {
     "name": "stdout",
     "output_type": "stream",
     "text": [
      "    color interior\n",
      "0   black    black\n",
      "1  silver    black\n",
      "2    gray    beige\n",
      "3  silver    black\n",
      "4   black     gray\n"
     ]
    }
   ],
   "source": [
    "\n",
    "color_mode = df['color'].mode()[0]\n",
    "df['color'] = df['color'].replace('—', color_mode)\n",
    "interior_mode = df['interior'].mode()[0]\n",
    "df['interior'] = df['interior'].replace('—', interior_mode)\n",
    "print(df[['color', 'interior']].head())\n",
    "\n",
    "\n"
   ]
  },
  {
   "cell_type": "code",
   "execution_count": 8,
   "id": "4cf56b74",
   "metadata": {},
   "outputs": [
    {
     "data": {
      "text/plain": [
       "array(['sedan', 'suv', 'king cab', 'hatchback', 'supercab', 'supercrew',\n",
       "       'g sedan', nan, 'wagon', 'minivan', 'van', 'convertible',\n",
       "       'crew cab', 'g coupe', 'coupe', 'regular cab', 'quad cab',\n",
       "       'crewmax cab', 'elantra coupe', 'xtracab', 'genesis coupe',\n",
       "       'e-series van', 'double cab', 'extended cab', 'koup', 'cts coupe',\n",
       "       'mega cab', 'g convertible', 'access cab', 'promaster cargo van',\n",
       "       'club cab', 'beetle convertible', 'cts-v coupe', 'tsx sport wagon',\n",
       "       'q60 convertible', 'cab plus', 'granturismo convertible',\n",
       "       'g37 convertible'], dtype=object)"
      ]
     },
     "execution_count": 8,
     "metadata": {},
     "output_type": "execute_result"
    }
   ],
   "source": [
    "df['body'].unique()"
   ]
  },
  {
   "cell_type": "code",
   "execution_count": 9,
   "id": "9b62ddb5",
   "metadata": {},
   "outputs": [
    {
     "data": {
      "text/plain": [
       "array(['Sedan', 'SUV', 'Pickup Truck', 'Hatchback', None, 'Wagon',\n",
       "       'Minivan', 'Convertible', 'Coupe', 'cab plus'], dtype=object)"
      ]
     },
     "execution_count": 9,
     "metadata": {},
     "output_type": "execute_result"
    }
   ],
   "source": [
    "def map_body_type(body):\n",
    "    if isinstance(body, str):\n",
    "        body = body.lower()\n",
    "        if 'sedan' in body or 'g sedan' in body:\n",
    "            return 'Sedan'\n",
    "        elif 'coupe' in body or 'g coupe' in body or 'genesis coupe' in body or 'elantra coupe' in body or 'cts coupe' in body or 'cts-v coupe' in body or 'q60 coupe' in body or 'koup' in body:\n",
    "            return 'Coupe'\n",
    "        elif 'convertible' in body or 'g convertible' in body or 'beetle convertible' in body or 'g37 convertible' in body or 'q60 convertible' in body or 'granturismo convertible' in body:\n",
    "            return 'Convertible'\n",
    "        elif 'hatchback' in body:\n",
    "            return 'Hatchback'\n",
    "        elif 'suv' in body:\n",
    "            return 'SUV'\n",
    "        elif 'minivan' in body or 'van' in body or 'e-series van' in body or 'promaster cargo van' in body or 'transit van' in body:\n",
    "            return 'Minivan'\n",
    "        elif 'wagon' in body or 'tsx wagon' in body or 'tsx sport wagon' in body or 'cts wagon' in body:\n",
    "            return 'Wagon'\n",
    "        elif 'crew cab' in body or 'extended cab' in body or 'regular-cab' in body or'regular cab' in body or 'double cab' in body or 'supercab' in body or 'king cab' in body or 'quad cab' in body or 'mega cab' in body or 'club cab' in body or 'access cab' in body or 'crewmax cab' in body or 'cab plus 4' in body or 'supercrew' in body or 'xtracab' in body or 'pickup' in body:\n",
    "            return 'Pickup Truck'\n",
    "        else:\n",
    "            return body\n",
    "    else:\n",
    "        return None # Handle non-string values (like NaN)\n",
    "\n",
    "df['body'] = df['body'].apply(map_body_type)\n",
    "df['body'].unique()"
   ]
  },
  {
   "cell_type": "code",
   "execution_count": 10,
   "id": "578bff0e",
   "metadata": {},
   "outputs": [
    {
     "data": {
      "text/plain": [
       "body\n",
       "Sedan           8895\n",
       "SUV             5194\n",
       "Pickup Truck    1645\n",
       "Minivan         1145\n",
       "Hatchback        955\n",
       "Coupe            730\n",
       "Wagon            592\n",
       "Convertible      396\n",
       "cab plus           1\n",
       "Name: count, dtype: int64"
      ]
     },
     "execution_count": 10,
     "metadata": {},
     "output_type": "execute_result"
    }
   ],
   "source": [
    "df['body'].value_counts()"
   ]
  },
  {
   "cell_type": "code",
   "execution_count": 11,
   "id": "0e12c7f4",
   "metadata": {},
   "outputs": [
    {
     "data": {
      "text/html": [
       "<div>\n",
       "<style scoped>\n",
       "    .dataframe tbody tr th:only-of-type {\n",
       "        vertical-align: middle;\n",
       "    }\n",
       "\n",
       "    .dataframe tbody tr th {\n",
       "        vertical-align: top;\n",
       "    }\n",
       "\n",
       "    .dataframe thead th {\n",
       "        text-align: right;\n",
       "    }\n",
       "</style>\n",
       "<table border=\"1\" class=\"dataframe\">\n",
       "  <thead>\n",
       "    <tr style=\"text-align: right;\">\n",
       "      <th></th>\n",
       "      <th>odometer</th>\n",
       "      <th>make</th>\n",
       "      <th>model</th>\n",
       "      <th>body</th>\n",
       "      <th>transmission</th>\n",
       "      <th>condition</th>\n",
       "      <th>sellingprice</th>\n",
       "    </tr>\n",
       "  </thead>\n",
       "  <tbody>\n",
       "    <tr>\n",
       "      <th>0</th>\n",
       "      <td>65151.0</td>\n",
       "      <td>nissan</td>\n",
       "      <td>altima</td>\n",
       "      <td>Sedan</td>\n",
       "      <td>automatic</td>\n",
       "      <td>3.7</td>\n",
       "      <td>10500</td>\n",
       "    </tr>\n",
       "    <tr>\n",
       "      <th>1</th>\n",
       "      <td>56144.0</td>\n",
       "      <td>toyota</td>\n",
       "      <td>camry</td>\n",
       "      <td>Sedan</td>\n",
       "      <td>automatic</td>\n",
       "      <td>3.2</td>\n",
       "      <td>9500</td>\n",
       "    </tr>\n",
       "    <tr>\n",
       "      <th>2</th>\n",
       "      <td>171959.0</td>\n",
       "      <td>honda</td>\n",
       "      <td>civic</td>\n",
       "      <td>Sedan</td>\n",
       "      <td>automatic</td>\n",
       "      <td>2.5</td>\n",
       "      <td>2300</td>\n",
       "    </tr>\n",
       "    <tr>\n",
       "      <th>3</th>\n",
       "      <td>115065.0</td>\n",
       "      <td>nissan</td>\n",
       "      <td>armada</td>\n",
       "      <td>SUV</td>\n",
       "      <td>automatic</td>\n",
       "      <td>3.6</td>\n",
       "      <td>13000</td>\n",
       "    </tr>\n",
       "    <tr>\n",
       "      <th>4</th>\n",
       "      <td>15721.0</td>\n",
       "      <td>nissan</td>\n",
       "      <td>pathfinder</td>\n",
       "      <td>SUV</td>\n",
       "      <td>automatic</td>\n",
       "      <td>4.5</td>\n",
       "      <td>29600</td>\n",
       "    </tr>\n",
       "  </tbody>\n",
       "</table>\n",
       "</div>"
      ],
      "text/plain": [
       "   odometer    make       model   body transmission  condition  sellingprice\n",
       "0   65151.0  nissan      altima  Sedan    automatic        3.7         10500\n",
       "1   56144.0  toyota       camry  Sedan    automatic        3.2          9500\n",
       "2  171959.0   honda       civic  Sedan    automatic        2.5          2300\n",
       "3  115065.0  nissan      armada    SUV    automatic        3.6         13000\n",
       "4   15721.0  nissan  pathfinder    SUV    automatic        4.5         29600"
      ]
     },
     "execution_count": 11,
     "metadata": {},
     "output_type": "execute_result"
    }
   ],
   "source": [
    "selected_columns = ['odometer', 'make', 'model', 'body', 'transmission', 'condition']\n",
    "df_model = df[selected_columns + ['sellingprice']]\n",
    "df_model.head()"
   ]
  },
  {
   "cell_type": "code",
   "execution_count": 12,
   "id": "40945a98",
   "metadata": {},
   "outputs": [
    {
     "data": {
      "text/plain": [
       "(20000, 7)"
      ]
     },
     "execution_count": 12,
     "metadata": {},
     "output_type": "execute_result"
    }
   ],
   "source": [
    "df_model.shape"
   ]
  },
  {
   "cell_type": "code",
   "execution_count": 13,
   "id": "ffa2fc32",
   "metadata": {},
   "outputs": [
    {
     "name": "stdout",
     "output_type": "stream",
     "text": [
      "RMSE : 4,816\n",
      "R²   : 0.755\n",
      "Saved → car_price_pipeline.pkl\n"
     ]
    }
   ],
   "source": [
    "from sklearn.model_selection import train_test_split\n",
    "from sklearn.impute import SimpleImputer\n",
    "from sklearn.preprocessing import OneHotEncoder, StandardScaler\n",
    "from sklearn.compose import ColumnTransformer\n",
    "from sklearn.pipeline import Pipeline\n",
    "from sklearn.linear_model import LinearRegression\n",
    "from sklearn.metrics import mean_squared_error, r2_score\n",
    "import joblib, numpy as np\n",
    "\n",
    "# ─── raw columns & target ──────────────────────────────────────────\n",
    "selected_columns = ['odometer', 'make', 'model', 'body',\n",
    "                    'transmission', 'condition']\n",
    "target = 'sellingprice'\n",
    "\n",
    "X = df[selected_columns].copy()\n",
    "y = df[target].copy()\n",
    "\n",
    "# ─── preprocessing sub-pipelines ───────────────────────────────────\n",
    "num_cols = ['odometer', 'condition']\n",
    "cat_cols = ['make', 'model', 'body', 'transmission']\n",
    "\n",
    "numeric_pipe = Pipeline([\n",
    "    ('imputer', SimpleImputer(strategy='median')),\n",
    "    ('scaler',  StandardScaler())\n",
    "])\n",
    "\n",
    "categorical_pipe = Pipeline([\n",
    "    ('imputer', SimpleImputer(strategy='most_frequent')),\n",
    "    ('ohe',     OneHotEncoder(handle_unknown='ignore'))\n",
    "])\n",
    "\n",
    "preprocess = ColumnTransformer([\n",
    "    ('num', numeric_pipe, num_cols),\n",
    "    ('cat', categorical_pipe, cat_cols)\n",
    "])\n",
    "\n",
    "# ─── full model ----------------------------------------------------\n",
    "model = Pipeline([\n",
    "    ('prep', preprocess),\n",
    "    ('reg',  LinearRegression())\n",
    "])\n",
    "\n",
    "X_train, X_test, y_train, y_test = train_test_split(\n",
    "    X, y, test_size=0.2, random_state=42)\n",
    "\n",
    "model.fit(X_train, y_train)\n",
    "\n",
    "# ─── evaluation (same as before) -----------------------------------\n",
    "y_pred = model.predict(X_test)\n",
    "rmse = np.sqrt(mean_squared_error(y_test, y_pred))\n",
    "r2   = r2_score(y_test, y_pred)\n",
    "print(f\"RMSE : {rmse:,.0f}\")\n",
    "print(f\"R²   : {r2:.3f}\")\n",
    "\n",
    "# ─── save ONE artefact ---------------------------------------------\n",
    "joblib.dump(model, 'car_price_pipeline.pkl')\n",
    "print(\"Saved → car_price_pipeline.pkl\")\n"
   ]
  },
  {
   "cell_type": "code",
   "execution_count": 14,
   "id": "d6c3b7ad",
   "metadata": {},
   "outputs": [
    {
     "name": "stdout",
     "output_type": "stream",
     "text": [
      "Average selling price: $13,595.82\n"
     ]
    }
   ],
   "source": [
    "# Compute mean selling price over the entire dataset\n",
    "mean_price = df_model['sellingprice'].mean()\n",
    "print(f\"Average selling price: ${mean_price:,.2f}\")\n"
   ]
  },
  {
   "cell_type": "code",
   "execution_count": 15,
   "id": "603812bd",
   "metadata": {},
   "outputs": [
    {
     "name": "stdout",
     "output_type": "stream",
     "text": [
      "Average selling price (test set): $13,725.46\n"
     ]
    }
   ],
   "source": [
    "# After your train/test split and prediction\n",
    "mean_test_price = y_test.mean()\n",
    "print(f\"Average selling price (test set): ${mean_test_price:,.2f}\")\n"
   ]
  },
  {
   "cell_type": "code",
   "execution_count": 16,
   "id": "5201a964",
   "metadata": {},
   "outputs": [
    {
     "name": "stdout",
     "output_type": "stream",
     "text": [
      "Relative RMSE: 35.1% of average price\n"
     ]
    }
   ],
   "source": [
    "# assuming you already have `rmse` from before\n",
    "r_rmse = rmse / mean_test_price * 100\n",
    "print(f\"Relative RMSE: {r_rmse:.1f}% of average price\")\n"
   ]
  },
  {
   "cell_type": "code",
   "execution_count": 17,
   "id": "7b5c6fce",
   "metadata": {},
   "outputs": [
    {
     "data": {
      "image/png": "[encoded data removed]",
      "text/plain": [
       "<Figure size 1400x500 with 2 Axes>"
      ]
     },
     "metadata": {},
     "output_type": "display_data"
    }
   ],
   "source": [
    "f = plt.figure(figsize=(14,5))\n",
    "ax = f.add_subplot(121)\n",
    "sns.scatterplot(x=y_test, y=y_pred, ax=ax, color='r')\n",
    "ax.set_title('Check for Linearity:\\n Actual Vs Predicted value')\n",
    "\n",
    "ax = f.add_subplot(122)\n",
    "sns.histplot(x=(y_test - y_pred), ax=ax, color='b', kde=True)\n",
    "ax.axvline((y_test - y_pred).mean(), color='k', linestyle='--')\n",
    "ax.set_title('Check for Residual normality & mean: \\n Residual eror');"
   ]
  }
 ],
 "metadata": {
  "kernelspec": {
   "display_name": "Python 3",
   "language": "python",
   "name": "python3"
  },
  "language_info": {
   "codemirror_mode": {
    "name": "ipython",
    "version": 3
   },
   "file_extension": ".py",
   "mimetype": "text/x-python",
   "name": "python",
   "nbconvert_exporter": "python",
   "pygments_lexer": "ipython3",
   "version": "3.12.1"
  }
 },
 "nbformat": 4,
 "nbformat_minor": 5
}
